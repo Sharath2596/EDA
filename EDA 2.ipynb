{
  "cells": [
    {
      "metadata": {
        "trusted": true
      },
      "cell_type": "code",
      "source": "uild a simple linear regression model by performing EDA and do necessary transformations and select the best model using R or Python.",
      "execution_count": null,
      "outputs": []
    },
    {
      "metadata": {},
      "cell_type": "markdown",
      "source": "# EDA for Salary hike dataset"
    },
    {
      "metadata": {
        "trusted": true
      },
      "cell_type": "code",
      "source": "!pip install pandas_profiling\n!pip install sweetviz",
      "execution_count": null,
      "outputs": []
    },
    {
      "metadata": {
        "trusted": true
      },
      "cell_type": "code",
      "source": "#load the libraries\nimport pandas as pd\nimport numpy as np\nimport pandas_profiling as pp\nimport sweetviz as sv",
      "execution_count": 8,
      "outputs": []
    },
    {
      "metadata": {
        "trusted": true
      },
      "cell_type": "code",
      "source": "%matplotlib inline\nimport matplotlib.pyplot as plt",
      "execution_count": 46,
      "outputs": []
    },
    {
      "metadata": {
        "trusted": true
      },
      "cell_type": "code",
      "source": "import seaborn as sns",
      "execution_count": 66,
      "outputs": []
    },
    {
      "metadata": {
        "trusted": true
      },
      "cell_type": "code",
      "source": "data1=pd.read_csv(\"Salary_Data.csv\")",
      "execution_count": 10,
      "outputs": []
    },
    {
      "metadata": {
        "trusted": true
      },
      "cell_type": "code",
      "source": "data1",
      "execution_count": 11,
      "outputs": [
        {
          "output_type": "execute_result",
          "execution_count": 11,
          "data": {
            "text/plain": "    YearsExperience    Salary\n0               1.1   39343.0\n1               1.3   46205.0\n2               1.5   37731.0\n3               2.0   43525.0\n4               2.2   39891.0\n5               2.9   56642.0\n6               3.0   60150.0\n7               3.2   54445.0\n8               3.2   64445.0\n9               3.7   57189.0\n10              3.9   63218.0\n11              4.0   55794.0\n12              4.0   56957.0\n13              4.1   57081.0\n14              4.5   61111.0\n15              4.9   67938.0\n16              5.1   66029.0\n17              5.3   83088.0\n18              5.9   81363.0\n19              6.0   93940.0\n20              6.8   91738.0\n21              7.1   98273.0\n22              7.9  101302.0\n23              8.2  113812.0\n24              8.7  109431.0\n25              9.0  105582.0\n26              9.5  116969.0\n27              9.6  112635.0\n28             10.3  122391.0\n29             10.5  121872.0",
            "text/html": "<div>\n<style scoped>\n    .dataframe tbody tr th:only-of-type {\n        vertical-align: middle;\n    }\n\n    .dataframe tbody tr th {\n        vertical-align: top;\n    }\n\n    .dataframe thead th {\n        text-align: right;\n    }\n</style>\n<table border=\"1\" class=\"dataframe\">\n  <thead>\n    <tr style=\"text-align: right;\">\n      <th></th>\n      <th>YearsExperience</th>\n      <th>Salary</th>\n    </tr>\n  </thead>\n  <tbody>\n    <tr>\n      <th>0</th>\n      <td>1.1</td>\n      <td>39343.0</td>\n    </tr>\n    <tr>\n      <th>1</th>\n      <td>1.3</td>\n      <td>46205.0</td>\n    </tr>\n    <tr>\n      <th>2</th>\n      <td>1.5</td>\n      <td>37731.0</td>\n    </tr>\n    <tr>\n      <th>3</th>\n      <td>2.0</td>\n      <td>43525.0</td>\n    </tr>\n    <tr>\n      <th>4</th>\n      <td>2.2</td>\n      <td>39891.0</td>\n    </tr>\n    <tr>\n      <th>5</th>\n      <td>2.9</td>\n      <td>56642.0</td>\n    </tr>\n    <tr>\n      <th>6</th>\n      <td>3.0</td>\n      <td>60150.0</td>\n    </tr>\n    <tr>\n      <th>7</th>\n      <td>3.2</td>\n      <td>54445.0</td>\n    </tr>\n    <tr>\n      <th>8</th>\n      <td>3.2</td>\n      <td>64445.0</td>\n    </tr>\n    <tr>\n      <th>9</th>\n      <td>3.7</td>\n      <td>57189.0</td>\n    </tr>\n    <tr>\n      <th>10</th>\n      <td>3.9</td>\n      <td>63218.0</td>\n    </tr>\n    <tr>\n      <th>11</th>\n      <td>4.0</td>\n      <td>55794.0</td>\n    </tr>\n    <tr>\n      <th>12</th>\n      <td>4.0</td>\n      <td>56957.0</td>\n    </tr>\n    <tr>\n      <th>13</th>\n      <td>4.1</td>\n      <td>57081.0</td>\n    </tr>\n    <tr>\n      <th>14</th>\n      <td>4.5</td>\n      <td>61111.0</td>\n    </tr>\n    <tr>\n      <th>15</th>\n      <td>4.9</td>\n      <td>67938.0</td>\n    </tr>\n    <tr>\n      <th>16</th>\n      <td>5.1</td>\n      <td>66029.0</td>\n    </tr>\n    <tr>\n      <th>17</th>\n      <td>5.3</td>\n      <td>83088.0</td>\n    </tr>\n    <tr>\n      <th>18</th>\n      <td>5.9</td>\n      <td>81363.0</td>\n    </tr>\n    <tr>\n      <th>19</th>\n      <td>6.0</td>\n      <td>93940.0</td>\n    </tr>\n    <tr>\n      <th>20</th>\n      <td>6.8</td>\n      <td>91738.0</td>\n    </tr>\n    <tr>\n      <th>21</th>\n      <td>7.1</td>\n      <td>98273.0</td>\n    </tr>\n    <tr>\n      <th>22</th>\n      <td>7.9</td>\n      <td>101302.0</td>\n    </tr>\n    <tr>\n      <th>23</th>\n      <td>8.2</td>\n      <td>113812.0</td>\n    </tr>\n    <tr>\n      <th>24</th>\n      <td>8.7</td>\n      <td>109431.0</td>\n    </tr>\n    <tr>\n      <th>25</th>\n      <td>9.0</td>\n      <td>105582.0</td>\n    </tr>\n    <tr>\n      <th>26</th>\n      <td>9.5</td>\n      <td>116969.0</td>\n    </tr>\n    <tr>\n      <th>27</th>\n      <td>9.6</td>\n      <td>112635.0</td>\n    </tr>\n    <tr>\n      <th>28</th>\n      <td>10.3</td>\n      <td>122391.0</td>\n    </tr>\n    <tr>\n      <th>29</th>\n      <td>10.5</td>\n      <td>121872.0</td>\n    </tr>\n  </tbody>\n</table>\n</div>"
          },
          "metadata": {}
        }
      ]
    },
    {
      "metadata": {
        "trusted": true
      },
      "cell_type": "code",
      "source": "data1.dtypes",
      "execution_count": 12,
      "outputs": [
        {
          "output_type": "execute_result",
          "execution_count": 12,
          "data": {
            "text/plain": "YearsExperience    float64\nSalary             float64\ndtype: object"
          },
          "metadata": {}
        }
      ]
    },
    {
      "metadata": {
        "trusted": true
      },
      "cell_type": "code",
      "source": "data1.shape",
      "execution_count": 13,
      "outputs": [
        {
          "output_type": "execute_result",
          "execution_count": 13,
          "data": {
            "text/plain": "(30, 2)"
          },
          "metadata": {}
        }
      ]
    },
    {
      "metadata": {
        "trusted": true
      },
      "cell_type": "code",
      "source": "data1.size",
      "execution_count": 14,
      "outputs": [
        {
          "output_type": "execute_result",
          "execution_count": 14,
          "data": {
            "text/plain": "60"
          },
          "metadata": {}
        }
      ]
    },
    {
      "metadata": {
        "trusted": true
      },
      "cell_type": "code",
      "source": "data1.head()",
      "execution_count": 15,
      "outputs": [
        {
          "output_type": "execute_result",
          "execution_count": 15,
          "data": {
            "text/plain": "   YearsExperience   Salary\n0              1.1  39343.0\n1              1.3  46205.0\n2              1.5  37731.0\n3              2.0  43525.0\n4              2.2  39891.0",
            "text/html": "<div>\n<style scoped>\n    .dataframe tbody tr th:only-of-type {\n        vertical-align: middle;\n    }\n\n    .dataframe tbody tr th {\n        vertical-align: top;\n    }\n\n    .dataframe thead th {\n        text-align: right;\n    }\n</style>\n<table border=\"1\" class=\"dataframe\">\n  <thead>\n    <tr style=\"text-align: right;\">\n      <th></th>\n      <th>YearsExperience</th>\n      <th>Salary</th>\n    </tr>\n  </thead>\n  <tbody>\n    <tr>\n      <th>0</th>\n      <td>1.1</td>\n      <td>39343.0</td>\n    </tr>\n    <tr>\n      <th>1</th>\n      <td>1.3</td>\n      <td>46205.0</td>\n    </tr>\n    <tr>\n      <th>2</th>\n      <td>1.5</td>\n      <td>37731.0</td>\n    </tr>\n    <tr>\n      <th>3</th>\n      <td>2.0</td>\n      <td>43525.0</td>\n    </tr>\n    <tr>\n      <th>4</th>\n      <td>2.2</td>\n      <td>39891.0</td>\n    </tr>\n  </tbody>\n</table>\n</div>"
          },
          "metadata": {}
        }
      ]
    },
    {
      "metadata": {
        "trusted": true
      },
      "cell_type": "code",
      "source": "data1.head(10)",
      "execution_count": 16,
      "outputs": [
        {
          "output_type": "execute_result",
          "execution_count": 16,
          "data": {
            "text/plain": "   YearsExperience   Salary\n0              1.1  39343.0\n1              1.3  46205.0\n2              1.5  37731.0\n3              2.0  43525.0\n4              2.2  39891.0\n5              2.9  56642.0\n6              3.0  60150.0\n7              3.2  54445.0\n8              3.2  64445.0\n9              3.7  57189.0",
            "text/html": "<div>\n<style scoped>\n    .dataframe tbody tr th:only-of-type {\n        vertical-align: middle;\n    }\n\n    .dataframe tbody tr th {\n        vertical-align: top;\n    }\n\n    .dataframe thead th {\n        text-align: right;\n    }\n</style>\n<table border=\"1\" class=\"dataframe\">\n  <thead>\n    <tr style=\"text-align: right;\">\n      <th></th>\n      <th>YearsExperience</th>\n      <th>Salary</th>\n    </tr>\n  </thead>\n  <tbody>\n    <tr>\n      <th>0</th>\n      <td>1.1</td>\n      <td>39343.0</td>\n    </tr>\n    <tr>\n      <th>1</th>\n      <td>1.3</td>\n      <td>46205.0</td>\n    </tr>\n    <tr>\n      <th>2</th>\n      <td>1.5</td>\n      <td>37731.0</td>\n    </tr>\n    <tr>\n      <th>3</th>\n      <td>2.0</td>\n      <td>43525.0</td>\n    </tr>\n    <tr>\n      <th>4</th>\n      <td>2.2</td>\n      <td>39891.0</td>\n    </tr>\n    <tr>\n      <th>5</th>\n      <td>2.9</td>\n      <td>56642.0</td>\n    </tr>\n    <tr>\n      <th>6</th>\n      <td>3.0</td>\n      <td>60150.0</td>\n    </tr>\n    <tr>\n      <th>7</th>\n      <td>3.2</td>\n      <td>54445.0</td>\n    </tr>\n    <tr>\n      <th>8</th>\n      <td>3.2</td>\n      <td>64445.0</td>\n    </tr>\n    <tr>\n      <th>9</th>\n      <td>3.7</td>\n      <td>57189.0</td>\n    </tr>\n  </tbody>\n</table>\n</div>"
          },
          "metadata": {}
        }
      ]
    },
    {
      "metadata": {
        "trusted": true
      },
      "cell_type": "code",
      "source": "data1.tail()",
      "execution_count": 17,
      "outputs": [
        {
          "output_type": "execute_result",
          "execution_count": 17,
          "data": {
            "text/plain": "    YearsExperience    Salary\n25              9.0  105582.0\n26              9.5  116969.0\n27              9.6  112635.0\n28             10.3  122391.0\n29             10.5  121872.0",
            "text/html": "<div>\n<style scoped>\n    .dataframe tbody tr th:only-of-type {\n        vertical-align: middle;\n    }\n\n    .dataframe tbody tr th {\n        vertical-align: top;\n    }\n\n    .dataframe thead th {\n        text-align: right;\n    }\n</style>\n<table border=\"1\" class=\"dataframe\">\n  <thead>\n    <tr style=\"text-align: right;\">\n      <th></th>\n      <th>YearsExperience</th>\n      <th>Salary</th>\n    </tr>\n  </thead>\n  <tbody>\n    <tr>\n      <th>25</th>\n      <td>9.0</td>\n      <td>105582.0</td>\n    </tr>\n    <tr>\n      <th>26</th>\n      <td>9.5</td>\n      <td>116969.0</td>\n    </tr>\n    <tr>\n      <th>27</th>\n      <td>9.6</td>\n      <td>112635.0</td>\n    </tr>\n    <tr>\n      <th>28</th>\n      <td>10.3</td>\n      <td>122391.0</td>\n    </tr>\n    <tr>\n      <th>29</th>\n      <td>10.5</td>\n      <td>121872.0</td>\n    </tr>\n  </tbody>\n</table>\n</div>"
          },
          "metadata": {}
        }
      ]
    },
    {
      "metadata": {
        "trusted": true
      },
      "cell_type": "code",
      "source": "data1.tail(10)",
      "execution_count": 18,
      "outputs": [
        {
          "output_type": "execute_result",
          "execution_count": 18,
          "data": {
            "text/plain": "    YearsExperience    Salary\n20              6.8   91738.0\n21              7.1   98273.0\n22              7.9  101302.0\n23              8.2  113812.0\n24              8.7  109431.0\n25              9.0  105582.0\n26              9.5  116969.0\n27              9.6  112635.0\n28             10.3  122391.0\n29             10.5  121872.0",
            "text/html": "<div>\n<style scoped>\n    .dataframe tbody tr th:only-of-type {\n        vertical-align: middle;\n    }\n\n    .dataframe tbody tr th {\n        vertical-align: top;\n    }\n\n    .dataframe thead th {\n        text-align: right;\n    }\n</style>\n<table border=\"1\" class=\"dataframe\">\n  <thead>\n    <tr style=\"text-align: right;\">\n      <th></th>\n      <th>YearsExperience</th>\n      <th>Salary</th>\n    </tr>\n  </thead>\n  <tbody>\n    <tr>\n      <th>20</th>\n      <td>6.8</td>\n      <td>91738.0</td>\n    </tr>\n    <tr>\n      <th>21</th>\n      <td>7.1</td>\n      <td>98273.0</td>\n    </tr>\n    <tr>\n      <th>22</th>\n      <td>7.9</td>\n      <td>101302.0</td>\n    </tr>\n    <tr>\n      <th>23</th>\n      <td>8.2</td>\n      <td>113812.0</td>\n    </tr>\n    <tr>\n      <th>24</th>\n      <td>8.7</td>\n      <td>109431.0</td>\n    </tr>\n    <tr>\n      <th>25</th>\n      <td>9.0</td>\n      <td>105582.0</td>\n    </tr>\n    <tr>\n      <th>26</th>\n      <td>9.5</td>\n      <td>116969.0</td>\n    </tr>\n    <tr>\n      <th>27</th>\n      <td>9.6</td>\n      <td>112635.0</td>\n    </tr>\n    <tr>\n      <th>28</th>\n      <td>10.3</td>\n      <td>122391.0</td>\n    </tr>\n    <tr>\n      <th>29</th>\n      <td>10.5</td>\n      <td>121872.0</td>\n    </tr>\n  </tbody>\n</table>\n</div>"
          },
          "metadata": {}
        }
      ]
    },
    {
      "metadata": {
        "trusted": true
      },
      "cell_type": "code",
      "source": "data1.describe()",
      "execution_count": 20,
      "outputs": [
        {
          "output_type": "execute_result",
          "execution_count": 20,
          "data": {
            "text/plain": "       YearsExperience         Salary\ncount        30.000000      30.000000\nmean          5.313333   76003.000000\nstd           2.837888   27414.429785\nmin           1.100000   37731.000000\n25%           3.200000   56720.750000\n50%           4.700000   65237.000000\n75%           7.700000  100544.750000\nmax          10.500000  122391.000000",
            "text/html": "<div>\n<style scoped>\n    .dataframe tbody tr th:only-of-type {\n        vertical-align: middle;\n    }\n\n    .dataframe tbody tr th {\n        vertical-align: top;\n    }\n\n    .dataframe thead th {\n        text-align: right;\n    }\n</style>\n<table border=\"1\" class=\"dataframe\">\n  <thead>\n    <tr style=\"text-align: right;\">\n      <th></th>\n      <th>YearsExperience</th>\n      <th>Salary</th>\n    </tr>\n  </thead>\n  <tbody>\n    <tr>\n      <th>count</th>\n      <td>30.000000</td>\n      <td>30.000000</td>\n    </tr>\n    <tr>\n      <th>mean</th>\n      <td>5.313333</td>\n      <td>76003.000000</td>\n    </tr>\n    <tr>\n      <th>std</th>\n      <td>2.837888</td>\n      <td>27414.429785</td>\n    </tr>\n    <tr>\n      <th>min</th>\n      <td>1.100000</td>\n      <td>37731.000000</td>\n    </tr>\n    <tr>\n      <th>25%</th>\n      <td>3.200000</td>\n      <td>56720.750000</td>\n    </tr>\n    <tr>\n      <th>50%</th>\n      <td>4.700000</td>\n      <td>65237.000000</td>\n    </tr>\n    <tr>\n      <th>75%</th>\n      <td>7.700000</td>\n      <td>100544.750000</td>\n    </tr>\n    <tr>\n      <th>max</th>\n      <td>10.500000</td>\n      <td>122391.000000</td>\n    </tr>\n  </tbody>\n</table>\n</div>"
          },
          "metadata": {}
        }
      ]
    },
    {
      "metadata": {},
      "cell_type": "markdown",
      "source": "# Data type conversion"
    },
    {
      "metadata": {
        "trusted": true
      },
      "cell_type": "code",
      "source": "data1.info()",
      "execution_count": 24,
      "outputs": [
        {
          "output_type": "stream",
          "text": "<class 'pandas.core.frame.DataFrame'>\nRangeIndex: 30 entries, 0 to 29\nData columns (total 2 columns):\n #   Column           Non-Null Count  Dtype  \n---  ------           --------------  -----  \n 0   YearsExperience  30 non-null     float64\n 1   Salary           30 non-null     float64\ndtypes: float64(2)\nmemory usage: 608.0 bytes\n",
          "name": "stdout"
        }
      ]
    },
    {
      "metadata": {
        "trusted": true
      },
      "cell_type": "code",
      "source": "data1",
      "execution_count": 25,
      "outputs": [
        {
          "output_type": "execute_result",
          "execution_count": 25,
          "data": {
            "text/plain": "    YearsExperience    Salary\n0               1.1   39343.0\n1               1.3   46205.0\n2               1.5   37731.0\n3               2.0   43525.0\n4               2.2   39891.0\n5               2.9   56642.0\n6               3.0   60150.0\n7               3.2   54445.0\n8               3.2   64445.0\n9               3.7   57189.0\n10              3.9   63218.0\n11              4.0   55794.0\n12              4.0   56957.0\n13              4.1   57081.0\n14              4.5   61111.0\n15              4.9   67938.0\n16              5.1   66029.0\n17              5.3   83088.0\n18              5.9   81363.0\n19              6.0   93940.0\n20              6.8   91738.0\n21              7.1   98273.0\n22              7.9  101302.0\n23              8.2  113812.0\n24              8.7  109431.0\n25              9.0  105582.0\n26              9.5  116969.0\n27              9.6  112635.0\n28             10.3  122391.0\n29             10.5  121872.0",
            "text/html": "<div>\n<style scoped>\n    .dataframe tbody tr th:only-of-type {\n        vertical-align: middle;\n    }\n\n    .dataframe tbody tr th {\n        vertical-align: top;\n    }\n\n    .dataframe thead th {\n        text-align: right;\n    }\n</style>\n<table border=\"1\" class=\"dataframe\">\n  <thead>\n    <tr style=\"text-align: right;\">\n      <th></th>\n      <th>YearsExperience</th>\n      <th>Salary</th>\n    </tr>\n  </thead>\n  <tbody>\n    <tr>\n      <th>0</th>\n      <td>1.1</td>\n      <td>39343.0</td>\n    </tr>\n    <tr>\n      <th>1</th>\n      <td>1.3</td>\n      <td>46205.0</td>\n    </tr>\n    <tr>\n      <th>2</th>\n      <td>1.5</td>\n      <td>37731.0</td>\n    </tr>\n    <tr>\n      <th>3</th>\n      <td>2.0</td>\n      <td>43525.0</td>\n    </tr>\n    <tr>\n      <th>4</th>\n      <td>2.2</td>\n      <td>39891.0</td>\n    </tr>\n    <tr>\n      <th>5</th>\n      <td>2.9</td>\n      <td>56642.0</td>\n    </tr>\n    <tr>\n      <th>6</th>\n      <td>3.0</td>\n      <td>60150.0</td>\n    </tr>\n    <tr>\n      <th>7</th>\n      <td>3.2</td>\n      <td>54445.0</td>\n    </tr>\n    <tr>\n      <th>8</th>\n      <td>3.2</td>\n      <td>64445.0</td>\n    </tr>\n    <tr>\n      <th>9</th>\n      <td>3.7</td>\n      <td>57189.0</td>\n    </tr>\n    <tr>\n      <th>10</th>\n      <td>3.9</td>\n      <td>63218.0</td>\n    </tr>\n    <tr>\n      <th>11</th>\n      <td>4.0</td>\n      <td>55794.0</td>\n    </tr>\n    <tr>\n      <th>12</th>\n      <td>4.0</td>\n      <td>56957.0</td>\n    </tr>\n    <tr>\n      <th>13</th>\n      <td>4.1</td>\n      <td>57081.0</td>\n    </tr>\n    <tr>\n      <th>14</th>\n      <td>4.5</td>\n      <td>61111.0</td>\n    </tr>\n    <tr>\n      <th>15</th>\n      <td>4.9</td>\n      <td>67938.0</td>\n    </tr>\n    <tr>\n      <th>16</th>\n      <td>5.1</td>\n      <td>66029.0</td>\n    </tr>\n    <tr>\n      <th>17</th>\n      <td>5.3</td>\n      <td>83088.0</td>\n    </tr>\n    <tr>\n      <th>18</th>\n      <td>5.9</td>\n      <td>81363.0</td>\n    </tr>\n    <tr>\n      <th>19</th>\n      <td>6.0</td>\n      <td>93940.0</td>\n    </tr>\n    <tr>\n      <th>20</th>\n      <td>6.8</td>\n      <td>91738.0</td>\n    </tr>\n    <tr>\n      <th>21</th>\n      <td>7.1</td>\n      <td>98273.0</td>\n    </tr>\n    <tr>\n      <th>22</th>\n      <td>7.9</td>\n      <td>101302.0</td>\n    </tr>\n    <tr>\n      <th>23</th>\n      <td>8.2</td>\n      <td>113812.0</td>\n    </tr>\n    <tr>\n      <th>24</th>\n      <td>8.7</td>\n      <td>109431.0</td>\n    </tr>\n    <tr>\n      <th>25</th>\n      <td>9.0</td>\n      <td>105582.0</td>\n    </tr>\n    <tr>\n      <th>26</th>\n      <td>9.5</td>\n      <td>116969.0</td>\n    </tr>\n    <tr>\n      <th>27</th>\n      <td>9.6</td>\n      <td>112635.0</td>\n    </tr>\n    <tr>\n      <th>28</th>\n      <td>10.3</td>\n      <td>122391.0</td>\n    </tr>\n    <tr>\n      <th>29</th>\n      <td>10.5</td>\n      <td>121872.0</td>\n    </tr>\n  </tbody>\n</table>\n</div>"
          },
          "metadata": {}
        }
      ]
    },
    {
      "metadata": {
        "trusted": true
      },
      "cell_type": "code",
      "source": "data1.values",
      "execution_count": 29,
      "outputs": [
        {
          "output_type": "execute_result",
          "execution_count": 29,
          "data": {
            "text/plain": "array([[1.10000e+00, 3.93430e+04],\n       [1.30000e+00, 4.62050e+04],\n       [1.50000e+00, 3.77310e+04],\n       [2.00000e+00, 4.35250e+04],\n       [2.20000e+00, 3.98910e+04],\n       [2.90000e+00, 5.66420e+04],\n       [3.00000e+00, 6.01500e+04],\n       [3.20000e+00, 5.44450e+04],\n       [3.20000e+00, 6.44450e+04],\n       [3.70000e+00, 5.71890e+04],\n       [3.90000e+00, 6.32180e+04],\n       [4.00000e+00, 5.57940e+04],\n       [4.00000e+00, 5.69570e+04],\n       [4.10000e+00, 5.70810e+04],\n       [4.50000e+00, 6.11110e+04],\n       [4.90000e+00, 6.79380e+04],\n       [5.10000e+00, 6.60290e+04],\n       [5.30000e+00, 8.30880e+04],\n       [5.90000e+00, 8.13630e+04],\n       [6.00000e+00, 9.39400e+04],\n       [6.80000e+00, 9.17380e+04],\n       [7.10000e+00, 9.82730e+04],\n       [7.90000e+00, 1.01302e+05],\n       [8.20000e+00, 1.13812e+05],\n       [8.70000e+00, 1.09431e+05],\n       [9.00000e+00, 1.05582e+05],\n       [9.50000e+00, 1.16969e+05],\n       [9.60000e+00, 1.12635e+05],\n       [1.03000e+01, 1.22391e+05],\n       [1.05000e+01, 1.21872e+05]])"
          },
          "metadata": {}
        }
      ]
    },
    {
      "metadata": {
        "trusted": true
      },
      "cell_type": "code",
      "source": "data1['YearsExperience']=pd.to_numeric(data1['YearsExperience'],errors='coerce')",
      "execution_count": 32,
      "outputs": []
    },
    {
      "metadata": {
        "trusted": true
      },
      "cell_type": "code",
      "source": "data1['YearsExperience'].values",
      "execution_count": 34,
      "outputs": [
        {
          "output_type": "execute_result",
          "execution_count": 34,
          "data": {
            "text/plain": "array([ 1.1,  1.3,  1.5,  2. ,  2.2,  2.9,  3. ,  3.2,  3.2,  3.7,  3.9,\n        4. ,  4. ,  4.1,  4.5,  4.9,  5.1,  5.3,  5.9,  6. ,  6.8,  7.1,\n        7.9,  8.2,  8.7,  9. ,  9.5,  9.6, 10.3, 10.5])"
          },
          "metadata": {}
        }
      ]
    },
    {
      "metadata": {
        "trusted": true
      },
      "cell_type": "code",
      "source": "data1['Salary']=pd.to_numeric(data1['Salary'],errors='coerce')",
      "execution_count": 35,
      "outputs": []
    },
    {
      "metadata": {
        "trusted": true
      },
      "cell_type": "code",
      "source": "data1['Salary'].values",
      "execution_count": 37,
      "outputs": [
        {
          "output_type": "execute_result",
          "execution_count": 37,
          "data": {
            "text/plain": "array([ 39343.,  46205.,  37731.,  43525.,  39891.,  56642.,  60150.,\n        54445.,  64445.,  57189.,  63218.,  55794.,  56957.,  57081.,\n        61111.,  67938.,  66029.,  83088.,  81363.,  93940.,  91738.,\n        98273., 101302., 113812., 109431., 105582., 116969., 112635.,\n       122391., 121872.])"
          },
          "metadata": {}
        }
      ]
    },
    {
      "metadata": {},
      "cell_type": "raw",
      "source": "Above dataset there is no missing entry to there is no need to drop any column."
    },
    {
      "metadata": {},
      "cell_type": "markdown",
      "source": "# Duplicate"
    },
    {
      "metadata": {
        "trusted": true,
        "scrolled": true
      },
      "cell_type": "code",
      "source": "#count duplicate rows\ndata1[data1.duplicated()].shape",
      "execution_count": 40,
      "outputs": [
        {
          "output_type": "execute_result",
          "execution_count": 40,
          "data": {
            "text/plain": "(0, 2)"
          },
          "metadata": {}
        }
      ]
    },
    {
      "metadata": {},
      "cell_type": "markdown",
      "source": "Here no row is duplicated"
    },
    {
      "metadata": {},
      "cell_type": "markdown",
      "source": "# Rename columns"
    },
    {
      "metadata": {
        "trusted": true
      },
      "cell_type": "code",
      "source": "#rename the Solar column\ndata1 = data1.rename({'Salary': 'Salary In Rs'}, axis=1)",
      "execution_count": 42,
      "outputs": []
    },
    {
      "metadata": {
        "trusted": true,
        "scrolled": true
      },
      "cell_type": "code",
      "source": "data1",
      "execution_count": 43,
      "outputs": [
        {
          "output_type": "execute_result",
          "execution_count": 43,
          "data": {
            "text/plain": "    YearsExperience  Salary In Rs\n0               1.1       39343.0\n1               1.3       46205.0\n2               1.5       37731.0\n3               2.0       43525.0\n4               2.2       39891.0\n5               2.9       56642.0\n6               3.0       60150.0\n7               3.2       54445.0\n8               3.2       64445.0\n9               3.7       57189.0\n10              3.9       63218.0\n11              4.0       55794.0\n12              4.0       56957.0\n13              4.1       57081.0\n14              4.5       61111.0\n15              4.9       67938.0\n16              5.1       66029.0\n17              5.3       83088.0\n18              5.9       81363.0\n19              6.0       93940.0\n20              6.8       91738.0\n21              7.1       98273.0\n22              7.9      101302.0\n23              8.2      113812.0\n24              8.7      109431.0\n25              9.0      105582.0\n26              9.5      116969.0\n27              9.6      112635.0\n28             10.3      122391.0\n29             10.5      121872.0",
            "text/html": "<div>\n<style scoped>\n    .dataframe tbody tr th:only-of-type {\n        vertical-align: middle;\n    }\n\n    .dataframe tbody tr th {\n        vertical-align: top;\n    }\n\n    .dataframe thead th {\n        text-align: right;\n    }\n</style>\n<table border=\"1\" class=\"dataframe\">\n  <thead>\n    <tr style=\"text-align: right;\">\n      <th></th>\n      <th>YearsExperience</th>\n      <th>Salary In Rs</th>\n    </tr>\n  </thead>\n  <tbody>\n    <tr>\n      <th>0</th>\n      <td>1.1</td>\n      <td>39343.0</td>\n    </tr>\n    <tr>\n      <th>1</th>\n      <td>1.3</td>\n      <td>46205.0</td>\n    </tr>\n    <tr>\n      <th>2</th>\n      <td>1.5</td>\n      <td>37731.0</td>\n    </tr>\n    <tr>\n      <th>3</th>\n      <td>2.0</td>\n      <td>43525.0</td>\n    </tr>\n    <tr>\n      <th>4</th>\n      <td>2.2</td>\n      <td>39891.0</td>\n    </tr>\n    <tr>\n      <th>5</th>\n      <td>2.9</td>\n      <td>56642.0</td>\n    </tr>\n    <tr>\n      <th>6</th>\n      <td>3.0</td>\n      <td>60150.0</td>\n    </tr>\n    <tr>\n      <th>7</th>\n      <td>3.2</td>\n      <td>54445.0</td>\n    </tr>\n    <tr>\n      <th>8</th>\n      <td>3.2</td>\n      <td>64445.0</td>\n    </tr>\n    <tr>\n      <th>9</th>\n      <td>3.7</td>\n      <td>57189.0</td>\n    </tr>\n    <tr>\n      <th>10</th>\n      <td>3.9</td>\n      <td>63218.0</td>\n    </tr>\n    <tr>\n      <th>11</th>\n      <td>4.0</td>\n      <td>55794.0</td>\n    </tr>\n    <tr>\n      <th>12</th>\n      <td>4.0</td>\n      <td>56957.0</td>\n    </tr>\n    <tr>\n      <th>13</th>\n      <td>4.1</td>\n      <td>57081.0</td>\n    </tr>\n    <tr>\n      <th>14</th>\n      <td>4.5</td>\n      <td>61111.0</td>\n    </tr>\n    <tr>\n      <th>15</th>\n      <td>4.9</td>\n      <td>67938.0</td>\n    </tr>\n    <tr>\n      <th>16</th>\n      <td>5.1</td>\n      <td>66029.0</td>\n    </tr>\n    <tr>\n      <th>17</th>\n      <td>5.3</td>\n      <td>83088.0</td>\n    </tr>\n    <tr>\n      <th>18</th>\n      <td>5.9</td>\n      <td>81363.0</td>\n    </tr>\n    <tr>\n      <th>19</th>\n      <td>6.0</td>\n      <td>93940.0</td>\n    </tr>\n    <tr>\n      <th>20</th>\n      <td>6.8</td>\n      <td>91738.0</td>\n    </tr>\n    <tr>\n      <th>21</th>\n      <td>7.1</td>\n      <td>98273.0</td>\n    </tr>\n    <tr>\n      <th>22</th>\n      <td>7.9</td>\n      <td>101302.0</td>\n    </tr>\n    <tr>\n      <th>23</th>\n      <td>8.2</td>\n      <td>113812.0</td>\n    </tr>\n    <tr>\n      <th>24</th>\n      <td>8.7</td>\n      <td>109431.0</td>\n    </tr>\n    <tr>\n      <th>25</th>\n      <td>9.0</td>\n      <td>105582.0</td>\n    </tr>\n    <tr>\n      <th>26</th>\n      <td>9.5</td>\n      <td>116969.0</td>\n    </tr>\n    <tr>\n      <th>27</th>\n      <td>9.6</td>\n      <td>112635.0</td>\n    </tr>\n    <tr>\n      <th>28</th>\n      <td>10.3</td>\n      <td>122391.0</td>\n    </tr>\n    <tr>\n      <th>29</th>\n      <td>10.5</td>\n      <td>121872.0</td>\n    </tr>\n  </tbody>\n</table>\n</div>"
          },
          "metadata": {}
        }
      ]
    },
    {
      "metadata": {},
      "cell_type": "markdown",
      "source": "# Outlier Detection¶"
    },
    {
      "metadata": {
        "trusted": true
      },
      "cell_type": "code",
      "source": "plt.hist(data1['YearsExperience'])",
      "execution_count": 47,
      "outputs": [
        {
          "output_type": "execute_result",
          "execution_count": 47,
          "data": {
            "text/plain": "(array([4., 2., 5., 4., 3., 2., 2., 2., 3., 3.]),\n array([ 1.1 ,  2.04,  2.98,  3.92,  4.86,  5.8 ,  6.74,  7.68,  8.62,\n         9.56, 10.5 ]),\n <a list of 10 Patch objects>)"
          },
          "metadata": {}
        },
        {
          "output_type": "display_data",
          "data": {
            "text/plain": "<Figure size 432x288 with 1 Axes>",
            "image/png": "[encoded data removed]"
          },
          "metadata": {
            "needs_background": "light"
          }
        }
      ]
    },
    {
      "metadata": {
        "trusted": true
      },
      "cell_type": "code",
      "source": "data1['YearsExperience'].hist()",
      "execution_count": 48,
      "outputs": [
        {
          "output_type": "execute_result",
          "execution_count": 48,
          "data": {
            "text/plain": "<matplotlib.axes._subplots.AxesSubplot at 0x271d48fbee0>"
          },
          "metadata": {}
        },
        {
          "output_type": "display_data",
          "data": {
            "text/plain": "<Figure size 432x288 with 1 Axes>",
            "image/png": "[encoded data removed]"
          },
          "metadata": {
            "needs_background": "light"
          }
        }
      ]
    },
    {
      "metadata": {
        "trusted": true
      },
      "cell_type": "code",
      "source": "plt.hist(data1['Salary In Rs'])",
      "execution_count": 49,
      "outputs": [
        {
          "output_type": "execute_result",
          "execution_count": 49,
          "data": {
            "text/plain": "(array([4., 2., 7., 4., 0., 2., 2., 2., 4., 3.]),\n array([ 37731.,  46197.,  54663.,  63129.,  71595.,  80061.,  88527.,\n         96993., 105459., 113925., 122391.]),\n <a list of 10 Patch objects>)"
          },
          "metadata": {}
        },
        {
          "output_type": "display_data",
          "data": {
            "text/plain": "<Figure size 432x288 with 1 Axes>",
            "image/png": "[encoded data removed]"
          },
          "metadata": {
            "needs_background": "light"
          }
        }
      ]
    },
    {
      "metadata": {
        "trusted": true
      },
      "cell_type": "code",
      "source": "data1['Salary In Rs'].hist()",
      "execution_count": 50,
      "outputs": [
        {
          "output_type": "execute_result",
          "execution_count": 50,
          "data": {
            "text/plain": "<matplotlib.axes._subplots.AxesSubplot at 0x271d492f6d0>"
          },
          "metadata": {}
        },
        {
          "output_type": "display_data",
          "data": {
            "text/plain": "<Figure size 432x288 with 1 Axes>",
            "image/png": "[encoded data removed]"
          },
          "metadata": {
            "needs_background": "light"
          }
        }
      ]
    },
    {
      "metadata": {
        "trusted": true
      },
      "cell_type": "code",
      "source": "plt.boxplot(data1['YearsExperience'])",
      "execution_count": 52,
      "outputs": [
        {
          "output_type": "execute_result",
          "execution_count": 52,
          "data": {
            "text/plain": "{'whiskers': [<matplotlib.lines.Line2D at 0x271d4b59e20>,\n  <matplotlib.lines.Line2D at 0x271d4b681c0>],\n 'caps': [<matplotlib.lines.Line2D at 0x271d4b68520>,\n  <matplotlib.lines.Line2D at 0x271d4b68880>],\n 'boxes': [<matplotlib.lines.Line2D at 0x271d4b59ac0>],\n 'medians': [<matplotlib.lines.Line2D at 0x271d4b68be0>],\n 'fliers': [<matplotlib.lines.Line2D at 0x271d4b68ee0>],\n 'means': []}"
          },
          "metadata": {}
        },
        {
          "output_type": "display_data",
          "data": {
            "text/plain": "<Figure size 432x288 with 1 Axes>",
            "image/png": "[encoded data removed]"
          },
          "metadata": {
            "needs_background": "light"
          }
        }
      ]
    },
    {
      "metadata": {
        "trusted": true
      },
      "cell_type": "code",
      "source": "plt.boxplot(data1['Salary In Rs'])",
      "execution_count": 53,
      "outputs": [
        {
          "output_type": "execute_result",
          "execution_count": 53,
          "data": {
            "text/plain": "{'whiskers': [<matplotlib.lines.Line2D at 0x271d4bb5ca0>,\n  <matplotlib.lines.Line2D at 0x271d4bc2040>],\n 'caps': [<matplotlib.lines.Line2D at 0x271d4bc23a0>,\n  <matplotlib.lines.Line2D at 0x271d4bc2700>],\n 'boxes': [<matplotlib.lines.Line2D at 0x271d4bb5940>],\n 'medians': [<matplotlib.lines.Line2D at 0x271d4bc2a60>],\n 'fliers': [<matplotlib.lines.Line2D at 0x271d4bc2d60>],\n 'means': []}"
          },
          "metadata": {}
        },
        {
          "output_type": "display_data",
          "data": {
            "text/plain": "<Figure size 432x288 with 1 Axes>",
            "image/png": "[encoded data removed]"
          },
          "metadata": {
            "needs_background": "light"
          }
        }
      ]
    },
    {
      "metadata": {
        "trusted": true
      },
      "cell_type": "code",
      "source": "data1.describe()",
      "execution_count": 61,
      "outputs": [
        {
          "output_type": "execute_result",
          "execution_count": 61,
          "data": {
            "text/plain": "       YearsExperience   Salary In Rs\ncount        30.000000      30.000000\nmean          5.313333   76003.000000\nstd           2.837888   27414.429785\nmin           1.100000   37731.000000\n25%           3.200000   56720.750000\n50%           4.700000   65237.000000\n75%           7.700000  100544.750000\nmax          10.500000  122391.000000",
            "text/html": "<div>\n<style scoped>\n    .dataframe tbody tr th:only-of-type {\n        vertical-align: middle;\n    }\n\n    .dataframe tbody tr th {\n        vertical-align: top;\n    }\n\n    .dataframe thead th {\n        text-align: right;\n    }\n</style>\n<table border=\"1\" class=\"dataframe\">\n  <thead>\n    <tr style=\"text-align: right;\">\n      <th></th>\n      <th>YearsExperience</th>\n      <th>Salary In Rs</th>\n    </tr>\n  </thead>\n  <tbody>\n    <tr>\n      <th>count</th>\n      <td>30.000000</td>\n      <td>30.000000</td>\n    </tr>\n    <tr>\n      <th>mean</th>\n      <td>5.313333</td>\n      <td>76003.000000</td>\n    </tr>\n    <tr>\n      <th>std</th>\n      <td>2.837888</td>\n      <td>27414.429785</td>\n    </tr>\n    <tr>\n      <th>min</th>\n      <td>1.100000</td>\n      <td>37731.000000</td>\n    </tr>\n    <tr>\n      <th>25%</th>\n      <td>3.200000</td>\n      <td>56720.750000</td>\n    </tr>\n    <tr>\n      <th>50%</th>\n      <td>4.700000</td>\n      <td>65237.000000</td>\n    </tr>\n    <tr>\n      <th>75%</th>\n      <td>7.700000</td>\n      <td>100544.750000</td>\n    </tr>\n    <tr>\n      <th>max</th>\n      <td>10.500000</td>\n      <td>122391.000000</td>\n    </tr>\n  </tbody>\n</table>\n</div>"
          },
          "metadata": {}
        }
      ]
    },
    {
      "metadata": {},
      "cell_type": "markdown",
      "source": "# Scatter plot and Correlation analysis¶\n"
    },
    {
      "metadata": {
        "trusted": true,
        "scrolled": true
      },
      "cell_type": "code",
      "source": "sns.pairplot(data1)\nplt.show()",
      "execution_count": 68,
      "outputs": [
        {
          "output_type": "display_data",
          "data": {
            "text/plain": "<Figure size 360x360 with 6 Axes>",
            "image/png": "[encoded data removed]"
          },
          "metadata": {
            "needs_background": "light"
          }
        }
      ]
    },
    {
      "metadata": {
        "trusted": true,
        "scrolled": true
      },
      "cell_type": "code",
      "source": "data1.corr()",
      "execution_count": 71,
      "outputs": [
        {
          "output_type": "execute_result",
          "execution_count": 71,
          "data": {
            "text/plain": "                 YearsExperience  Salary In Rs\nYearsExperience         1.000000      0.978242\nSalary In Rs            0.978242      1.000000",
            "text/html": "<div>\n<style scoped>\n    .dataframe tbody tr th:only-of-type {\n        vertical-align: middle;\n    }\n\n    .dataframe tbody tr th {\n        vertical-align: top;\n    }\n\n    .dataframe thead th {\n        text-align: right;\n    }\n</style>\n<table border=\"1\" class=\"dataframe\">\n  <thead>\n    <tr style=\"text-align: right;\">\n      <th></th>\n      <th>YearsExperience</th>\n      <th>Salary In Rs</th>\n    </tr>\n  </thead>\n  <tbody>\n    <tr>\n      <th>YearsExperience</th>\n      <td>1.000000</td>\n      <td>0.978242</td>\n    </tr>\n    <tr>\n      <th>Salary In Rs</th>\n      <td>0.978242</td>\n      <td>1.000000</td>\n    </tr>\n  </tbody>\n</table>\n</div>"
          },
          "metadata": {}
        }
      ]
    },
    {
      "metadata": {},
      "cell_type": "markdown",
      "source": "1.In above dataset there is strongly corelated strenght beacuse more datapoints are place near to each other .\n2.If one variable is increase another also incresase called as positive direction.\n3.Positive Linarity."
    },
    {
      "metadata": {
        "trusted": true
      },
      "cell_type": "code",
      "source": "\nsns.distplot(data1['YearsExperience'])",
      "execution_count": 76,
      "outputs": [
        {
          "output_type": "execute_result",
          "execution_count": 76,
          "data": {
            "text/plain": "<matplotlib.axes._subplots.AxesSubplot at 0x271d5f0b8e0>"
          },
          "metadata": {}
        },
        {
          "output_type": "display_data",
          "data": {
            "text/plain": "<Figure size 432x288 with 1 Axes>",
            "image/png": "[encoded data removed]"
          },
          "metadata": {
            "needs_background": "light"
          }
        }
      ]
    },
    {
      "metadata": {
        "trusted": true
      },
      "cell_type": "code",
      "source": "sns.distplot(data1['Salary In Rs'])",
      "execution_count": 75,
      "outputs": [
        {
          "output_type": "execute_result",
          "execution_count": 75,
          "data": {
            "text/plain": "<matplotlib.axes._subplots.AxesSubplot at 0x271d5ea7370>"
          },
          "metadata": {}
        },
        {
          "output_type": "display_data",
          "data": {
            "text/plain": "<Figure size 432x288 with 1 Axes>",
            "image/png": "[encoded data removed]"
          },
          "metadata": {
            "needs_background": "light"
          }
        }
      ]
    }
  ],
  "metadata": {
    "kernelspec": {
      "name": "python3",
      "display_name": "Python 3",
      "language": "python"
    },
    "language_info": {
      "name": "python",
      "version": "3.8.3",
      "mimetype": "text/x-python",
      "codemirror_mode": {
        "name": "ipython",
        "version": 3
      },
      "pygments_lexer": "ipython3",
      "nbconvert_exporter": "python",
      "file_extension": ".py"
    },
    "gist": {
      "id": "",
      "data": {
        "description": "Assignment 4 Q-1.ipynb",
        "public": true
      }
    }
  },
  "nbformat": 4,
  "nbformat_minor": 4
}