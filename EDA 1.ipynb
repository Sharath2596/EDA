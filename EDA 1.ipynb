{
  "cells": [
    {
      "metadata": {
        "trusted": true
      },
      "cell_type": "code",
      "source": "#load the libraries\nimport pandas as pd\nimport numpy as np\nimport pandas_profiling as pp\nimport sweetviz as sv",
      "execution_count": 1,
      "outputs": []
    },
    {
      "metadata": {
        "trusted": true
      },
      "cell_type": "code",
      "source": "data1=pd.read_csv(\"delivery_time.csv\")",
      "execution_count": 2,
      "outputs": []
    },
    {
      "metadata": {
        "trusted": true
      },
      "cell_type": "code",
      "source": "data1",
      "execution_count": 3,
      "outputs": [
        {
          "output_type": "execute_result",
          "execution_count": 3,
          "data": {
            "text/plain": "    Delivery Time  Sorting Time\n0           21.00            10\n1           13.50             4\n2           19.75             6\n3           24.00             9\n4           29.00            10\n5           15.35             6\n6           19.00             7\n7            9.50             3\n8           17.90            10\n9           18.75             9\n10          19.83             8\n11          10.75             4\n12          16.68             7\n13          11.50             3\n14          12.03             3\n15          14.88             4\n16          13.75             6\n17          18.11             7\n18           8.00             2\n19          17.83             7\n20          21.50             5",
            "text/html": "<div>\n<style scoped>\n    .dataframe tbody tr th:only-of-type {\n        vertical-align: middle;\n    }\n\n    .dataframe tbody tr th {\n        vertical-align: top;\n    }\n\n    .dataframe thead th {\n        text-align: right;\n    }\n</style>\n<table border=\"1\" class=\"dataframe\">\n  <thead>\n    <tr style=\"text-align: right;\">\n      <th></th>\n      <th>Delivery Time</th>\n      <th>Sorting Time</th>\n    </tr>\n  </thead>\n  <tbody>\n    <tr>\n      <th>0</th>\n      <td>21.00</td>\n      <td>10</td>\n    </tr>\n    <tr>\n      <th>1</th>\n      <td>13.50</td>\n      <td>4</td>\n    </tr>\n    <tr>\n      <th>2</th>\n      <td>19.75</td>\n      <td>6</td>\n    </tr>\n    <tr>\n      <th>3</th>\n      <td>24.00</td>\n      <td>9</td>\n    </tr>\n    <tr>\n      <th>4</th>\n      <td>29.00</td>\n      <td>10</td>\n    </tr>\n    <tr>\n      <th>5</th>\n      <td>15.35</td>\n      <td>6</td>\n    </tr>\n    <tr>\n      <th>6</th>\n      <td>19.00</td>\n      <td>7</td>\n    </tr>\n    <tr>\n      <th>7</th>\n      <td>9.50</td>\n      <td>3</td>\n    </tr>\n    <tr>\n      <th>8</th>\n      <td>17.90</td>\n      <td>10</td>\n    </tr>\n    <tr>\n      <th>9</th>\n      <td>18.75</td>\n      <td>9</td>\n    </tr>\n    <tr>\n      <th>10</th>\n      <td>19.83</td>\n      <td>8</td>\n    </tr>\n    <tr>\n      <th>11</th>\n      <td>10.75</td>\n      <td>4</td>\n    </tr>\n    <tr>\n      <th>12</th>\n      <td>16.68</td>\n      <td>7</td>\n    </tr>\n    <tr>\n      <th>13</th>\n      <td>11.50</td>\n      <td>3</td>\n    </tr>\n    <tr>\n      <th>14</th>\n      <td>12.03</td>\n      <td>3</td>\n    </tr>\n    <tr>\n      <th>15</th>\n      <td>14.88</td>\n      <td>4</td>\n    </tr>\n    <tr>\n      <th>16</th>\n      <td>13.75</td>\n      <td>6</td>\n    </tr>\n    <tr>\n      <th>17</th>\n      <td>18.11</td>\n      <td>7</td>\n    </tr>\n    <tr>\n      <th>18</th>\n      <td>8.00</td>\n      <td>2</td>\n    </tr>\n    <tr>\n      <th>19</th>\n      <td>17.83</td>\n      <td>7</td>\n    </tr>\n    <tr>\n      <th>20</th>\n      <td>21.50</td>\n      <td>5</td>\n    </tr>\n  </tbody>\n</table>\n</div>"
          },
          "metadata": {}
        }
      ]
    },
    {
      "metadata": {
        "trusted": true
      },
      "cell_type": "code",
      "source": "data1.head()",
      "execution_count": 4,
      "outputs": [
        {
          "output_type": "execute_result",
          "execution_count": 4,
          "data": {
            "text/plain": "   Delivery Time  Sorting Time\n0          21.00            10\n1          13.50             4\n2          19.75             6\n3          24.00             9\n4          29.00            10",
            "text/html": "<div>\n<style scoped>\n    .dataframe tbody tr th:only-of-type {\n        vertical-align: middle;\n    }\n\n    .dataframe tbody tr th {\n        vertical-align: top;\n    }\n\n    .dataframe thead th {\n        text-align: right;\n    }\n</style>\n<table border=\"1\" class=\"dataframe\">\n  <thead>\n    <tr style=\"text-align: right;\">\n      <th></th>\n      <th>Delivery Time</th>\n      <th>Sorting Time</th>\n    </tr>\n  </thead>\n  <tbody>\n    <tr>\n      <th>0</th>\n      <td>21.00</td>\n      <td>10</td>\n    </tr>\n    <tr>\n      <th>1</th>\n      <td>13.50</td>\n      <td>4</td>\n    </tr>\n    <tr>\n      <th>2</th>\n      <td>19.75</td>\n      <td>6</td>\n    </tr>\n    <tr>\n      <th>3</th>\n      <td>24.00</td>\n      <td>9</td>\n    </tr>\n    <tr>\n      <th>4</th>\n      <td>29.00</td>\n      <td>10</td>\n    </tr>\n  </tbody>\n</table>\n</div>"
          },
          "metadata": {}
        }
      ]
    },
    {
      "metadata": {
        "trusted": true
      },
      "cell_type": "code",
      "source": "data1.tail()",
      "execution_count": 5,
      "outputs": [
        {
          "output_type": "execute_result",
          "execution_count": 5,
          "data": {
            "text/plain": "    Delivery Time  Sorting Time\n16          13.75             6\n17          18.11             7\n18           8.00             2\n19          17.83             7\n20          21.50             5",
            "text/html": "<div>\n<style scoped>\n    .dataframe tbody tr th:only-of-type {\n        vertical-align: middle;\n    }\n\n    .dataframe tbody tr th {\n        vertical-align: top;\n    }\n\n    .dataframe thead th {\n        text-align: right;\n    }\n</style>\n<table border=\"1\" class=\"dataframe\">\n  <thead>\n    <tr style=\"text-align: right;\">\n      <th></th>\n      <th>Delivery Time</th>\n      <th>Sorting Time</th>\n    </tr>\n  </thead>\n  <tbody>\n    <tr>\n      <th>16</th>\n      <td>13.75</td>\n      <td>6</td>\n    </tr>\n    <tr>\n      <th>17</th>\n      <td>18.11</td>\n      <td>7</td>\n    </tr>\n    <tr>\n      <th>18</th>\n      <td>8.00</td>\n      <td>2</td>\n    </tr>\n    <tr>\n      <th>19</th>\n      <td>17.83</td>\n      <td>7</td>\n    </tr>\n    <tr>\n      <th>20</th>\n      <td>21.50</td>\n      <td>5</td>\n    </tr>\n  </tbody>\n</table>\n</div>"
          },
          "metadata": {}
        }
      ]
    },
    {
      "metadata": {
        "trusted": true
      },
      "cell_type": "code",
      "source": "data1.size",
      "execution_count": 6,
      "outputs": [
        {
          "output_type": "execute_result",
          "execution_count": 6,
          "data": {
            "text/plain": "42"
          },
          "metadata": {}
        }
      ]
    },
    {
      "metadata": {
        "trusted": true
      },
      "cell_type": "code",
      "source": "data1.dtypes",
      "execution_count": 15,
      "outputs": [
        {
          "output_type": "execute_result",
          "execution_count": 15,
          "data": {
            "text/plain": "Delivery Time    float64\nSorting Time       int64\ndtype: object"
          },
          "metadata": {}
        }
      ]
    },
    {
      "metadata": {
        "trusted": true
      },
      "cell_type": "code",
      "source": "data1.shape",
      "execution_count": 7,
      "outputs": [
        {
          "output_type": "execute_result",
          "execution_count": 7,
          "data": {
            "text/plain": "(21, 2)"
          },
          "metadata": {}
        }
      ]
    },
    {
      "metadata": {
        "trusted": true
      },
      "cell_type": "code",
      "source": "data1.axes",
      "execution_count": 8,
      "outputs": [
        {
          "output_type": "execute_result",
          "execution_count": 8,
          "data": {
            "text/plain": "[RangeIndex(start=0, stop=21, step=1),\n Index(['Delivery Time', 'Sorting Time'], dtype='object')]"
          },
          "metadata": {}
        }
      ]
    },
    {
      "metadata": {
        "trusted": true
      },
      "cell_type": "code",
      "source": "data1.describe()",
      "execution_count": 10,
      "outputs": [
        {
          "output_type": "execute_result",
          "execution_count": 10,
          "data": {
            "text/plain": "       Delivery Time  Sorting Time\ncount      21.000000     21.000000\nmean       16.790952      6.190476\nstd         5.074901      2.542028\nmin         8.000000      2.000000\n25%        13.500000      4.000000\n50%        17.830000      6.000000\n75%        19.750000      8.000000\nmax        29.000000     10.000000",
            "text/html": "<div>\n<style scoped>\n    .dataframe tbody tr th:only-of-type {\n        vertical-align: middle;\n    }\n\n    .dataframe tbody tr th {\n        vertical-align: top;\n    }\n\n    .dataframe thead th {\n        text-align: right;\n    }\n</style>\n<table border=\"1\" class=\"dataframe\">\n  <thead>\n    <tr style=\"text-align: right;\">\n      <th></th>\n      <th>Delivery Time</th>\n      <th>Sorting Time</th>\n    </tr>\n  </thead>\n  <tbody>\n    <tr>\n      <th>count</th>\n      <td>21.000000</td>\n      <td>21.000000</td>\n    </tr>\n    <tr>\n      <th>mean</th>\n      <td>16.790952</td>\n      <td>6.190476</td>\n    </tr>\n    <tr>\n      <th>std</th>\n      <td>5.074901</td>\n      <td>2.542028</td>\n    </tr>\n    <tr>\n      <th>min</th>\n      <td>8.000000</td>\n      <td>2.000000</td>\n    </tr>\n    <tr>\n      <th>25%</th>\n      <td>13.500000</td>\n      <td>4.000000</td>\n    </tr>\n    <tr>\n      <th>50%</th>\n      <td>17.830000</td>\n      <td>6.000000</td>\n    </tr>\n    <tr>\n      <th>75%</th>\n      <td>19.750000</td>\n      <td>8.000000</td>\n    </tr>\n    <tr>\n      <th>max</th>\n      <td>29.000000</td>\n      <td>10.000000</td>\n    </tr>\n  </tbody>\n</table>\n</div>"
          },
          "metadata": {}
        }
      ]
    },
    {
      "metadata": {
        "trusted": true
      },
      "cell_type": "code",
      "source": "data1.values",
      "execution_count": 11,
      "outputs": [
        {
          "output_type": "execute_result",
          "execution_count": 11,
          "data": {
            "text/plain": "array([[21.  , 10.  ],\n       [13.5 ,  4.  ],\n       [19.75,  6.  ],\n       [24.  ,  9.  ],\n       [29.  , 10.  ],\n       [15.35,  6.  ],\n       [19.  ,  7.  ],\n       [ 9.5 ,  3.  ],\n       [17.9 , 10.  ],\n       [18.75,  9.  ],\n       [19.83,  8.  ],\n       [10.75,  4.  ],\n       [16.68,  7.  ],\n       [11.5 ,  3.  ],\n       [12.03,  3.  ],\n       [14.88,  4.  ],\n       [13.75,  6.  ],\n       [18.11,  7.  ],\n       [ 8.  ,  2.  ],\n       [17.83,  7.  ],\n       [21.5 ,  5.  ]])"
          },
          "metadata": {}
        }
      ]
    },
    {
      "metadata": {
        "trusted": true
      },
      "cell_type": "code",
      "source": "data1.columns",
      "execution_count": 12,
      "outputs": [
        {
          "output_type": "execute_result",
          "execution_count": 12,
          "data": {
            "text/plain": "Index(['Delivery Time', 'Sorting Time'], dtype='object')"
          },
          "metadata": {}
        }
      ]
    },
    {
      "metadata": {
        "trusted": true,
        "scrolled": true
      },
      "cell_type": "code",
      "source": "data1.ndim",
      "execution_count": 13,
      "outputs": [
        {
          "output_type": "execute_result",
          "execution_count": 13,
          "data": {
            "text/plain": "2"
          },
          "metadata": {}
        }
      ]
    },
    {
      "metadata": {
        "trusted": true,
        "scrolled": true
      },
      "cell_type": "code",
      "source": "data1.info()",
      "execution_count": 16,
      "outputs": [
        {
          "output_type": "stream",
          "text": "<class 'pandas.core.frame.DataFrame'>\nRangeIndex: 21 entries, 0 to 20\nData columns (total 2 columns):\n #   Column         Non-Null Count  Dtype  \n---  ------         --------------  -----  \n 0   Delivery Time  21 non-null     float64\n 1   Sorting Time   21 non-null     int64  \ndtypes: float64(1), int64(1)\nmemory usage: 464.0 bytes\n",
          "name": "stdout"
        }
      ]
    },
    {
      "metadata": {
        "trusted": true
      },
      "cell_type": "code",
      "source": "data1['Delivery Time']=pd.to_numeric(data1['Delivery Time'],errors='coerce')",
      "execution_count": 17,
      "outputs": []
    },
    {
      "metadata": {
        "trusted": true
      },
      "cell_type": "code",
      "source": "data1['Delivery Time']",
      "execution_count": 18,
      "outputs": [
        {
          "output_type": "execute_result",
          "execution_count": 18,
          "data": {
            "text/plain": "0     21.00\n1     13.50\n2     19.75\n3     24.00\n4     29.00\n5     15.35\n6     19.00\n7      9.50\n8     17.90\n9     18.75\n10    19.83\n11    10.75\n12    16.68\n13    11.50\n14    12.03\n15    14.88\n16    13.75\n17    18.11\n18     8.00\n19    17.83\n20    21.50\nName: Delivery Time, dtype: float64"
          },
          "metadata": {}
        }
      ]
    },
    {
      "metadata": {
        "trusted": true
      },
      "cell_type": "code",
      "source": "data1['Sorting Time']=pd.to_numeric(data1['Sorting Time'],errors='coerce')",
      "execution_count": 21,
      "outputs": []
    },
    {
      "metadata": {
        "trusted": true
      },
      "cell_type": "code",
      "source": "data1['Sorting Time']",
      "execution_count": 22,
      "outputs": [
        {
          "output_type": "execute_result",
          "execution_count": 22,
          "data": {
            "text/plain": "0     10\n1      4\n2      6\n3      9\n4     10\n5      6\n6      7\n7      3\n8     10\n9      9\n10     8\n11     4\n12     7\n13     3\n14     3\n15     4\n16     6\n17     7\n18     2\n19     7\n20     5\nName: Sorting Time, dtype: int64"
          },
          "metadata": {}
        }
      ]
    },
    {
      "metadata": {},
      "cell_type": "markdown",
      "source": "# Duplicate"
    },
    {
      "metadata": {
        "trusted": true
      },
      "cell_type": "code",
      "source": "data1[data1.duplicated()].shape",
      "execution_count": 27,
      "outputs": [
        {
          "output_type": "execute_result",
          "execution_count": 27,
          "data": {
            "text/plain": "(0, 2)"
          },
          "metadata": {}
        }
      ]
    },
    {
      "metadata": {},
      "cell_type": "markdown",
      "source": "# Rename"
    },
    {
      "metadata": {
        "trusted": true
      },
      "cell_type": "code",
      "source": "#rename the Solar column\ndata1 = data1.rename({'Sorting Time': 'ST'}, axis=1)",
      "execution_count": 28,
      "outputs": []
    },
    {
      "metadata": {
        "trusted": true
      },
      "cell_type": "code",
      "source": "data1",
      "execution_count": 29,
      "outputs": [
        {
          "output_type": "execute_result",
          "execution_count": 29,
          "data": {
            "text/plain": "    Delivery Time  ST\n0           21.00  10\n1           13.50   4\n2           19.75   6\n3           24.00   9\n4           29.00  10\n5           15.35   6\n6           19.00   7\n7            9.50   3\n8           17.90  10\n9           18.75   9\n10          19.83   8\n11          10.75   4\n12          16.68   7\n13          11.50   3\n14          12.03   3\n15          14.88   4\n16          13.75   6\n17          18.11   7\n18           8.00   2\n19          17.83   7\n20          21.50   5",
            "text/html": "<div>\n<style scoped>\n    .dataframe tbody tr th:only-of-type {\n        vertical-align: middle;\n    }\n\n    .dataframe tbody tr th {\n        vertical-align: top;\n    }\n\n    .dataframe thead th {\n        text-align: right;\n    }\n</style>\n<table border=\"1\" class=\"dataframe\">\n  <thead>\n    <tr style=\"text-align: right;\">\n      <th></th>\n      <th>Delivery Time</th>\n      <th>ST</th>\n    </tr>\n  </thead>\n  <tbody>\n    <tr>\n      <th>0</th>\n      <td>21.00</td>\n      <td>10</td>\n    </tr>\n    <tr>\n      <th>1</th>\n      <td>13.50</td>\n      <td>4</td>\n    </tr>\n    <tr>\n      <th>2</th>\n      <td>19.75</td>\n      <td>6</td>\n    </tr>\n    <tr>\n      <th>3</th>\n      <td>24.00</td>\n      <td>9</td>\n    </tr>\n    <tr>\n      <th>4</th>\n      <td>29.00</td>\n      <td>10</td>\n    </tr>\n    <tr>\n      <th>5</th>\n      <td>15.35</td>\n      <td>6</td>\n    </tr>\n    <tr>\n      <th>6</th>\n      <td>19.00</td>\n      <td>7</td>\n    </tr>\n    <tr>\n      <th>7</th>\n      <td>9.50</td>\n      <td>3</td>\n    </tr>\n    <tr>\n      <th>8</th>\n      <td>17.90</td>\n      <td>10</td>\n    </tr>\n    <tr>\n      <th>9</th>\n      <td>18.75</td>\n      <td>9</td>\n    </tr>\n    <tr>\n      <th>10</th>\n      <td>19.83</td>\n      <td>8</td>\n    </tr>\n    <tr>\n      <th>11</th>\n      <td>10.75</td>\n      <td>4</td>\n    </tr>\n    <tr>\n      <th>12</th>\n      <td>16.68</td>\n      <td>7</td>\n    </tr>\n    <tr>\n      <th>13</th>\n      <td>11.50</td>\n      <td>3</td>\n    </tr>\n    <tr>\n      <th>14</th>\n      <td>12.03</td>\n      <td>3</td>\n    </tr>\n    <tr>\n      <th>15</th>\n      <td>14.88</td>\n      <td>4</td>\n    </tr>\n    <tr>\n      <th>16</th>\n      <td>13.75</td>\n      <td>6</td>\n    </tr>\n    <tr>\n      <th>17</th>\n      <td>18.11</td>\n      <td>7</td>\n    </tr>\n    <tr>\n      <th>18</th>\n      <td>8.00</td>\n      <td>2</td>\n    </tr>\n    <tr>\n      <th>19</th>\n      <td>17.83</td>\n      <td>7</td>\n    </tr>\n    <tr>\n      <th>20</th>\n      <td>21.50</td>\n      <td>5</td>\n    </tr>\n  </tbody>\n</table>\n</div>"
          },
          "metadata": {}
        }
      ]
    },
    {
      "metadata": {},
      "cell_type": "markdown",
      "source": "# correlation"
    },
    {
      "metadata": {
        "trusted": true
      },
      "cell_type": "code",
      "source": "data1.corr()",
      "execution_count": 31,
      "outputs": [
        {
          "output_type": "execute_result",
          "execution_count": 31,
          "data": {
            "text/plain": "               Delivery Time        ST\nDelivery Time       1.000000  0.825997\nST                  0.825997  1.000000",
            "text/html": "<div>\n<style scoped>\n    .dataframe tbody tr th:only-of-type {\n        vertical-align: middle;\n    }\n\n    .dataframe tbody tr th {\n        vertical-align: top;\n    }\n\n    .dataframe thead th {\n        text-align: right;\n    }\n</style>\n<table border=\"1\" class=\"dataframe\">\n  <thead>\n    <tr style=\"text-align: right;\">\n      <th></th>\n      <th>Delivery Time</th>\n      <th>ST</th>\n    </tr>\n  </thead>\n  <tbody>\n    <tr>\n      <th>Delivery Time</th>\n      <td>1.000000</td>\n      <td>0.825997</td>\n    </tr>\n    <tr>\n      <th>ST</th>\n      <td>0.825997</td>\n      <td>1.000000</td>\n    </tr>\n  </tbody>\n</table>\n</div>"
          },
          "metadata": {}
        }
      ]
    },
    {
      "metadata": {},
      "cell_type": "markdown",
      "source": "# Visualization"
    },
    {
      "metadata": {
        "trusted": true
      },
      "cell_type": "code",
      "source": "%matplotlib inline\nimport matplotlib.pyplot as plt",
      "execution_count": 36,
      "outputs": []
    },
    {
      "metadata": {
        "trusted": true
      },
      "cell_type": "code",
      "source": "data1['Delivery Time'].hist()",
      "execution_count": 32,
      "outputs": [
        {
          "output_type": "execute_result",
          "execution_count": 32,
          "data": {
            "text/plain": "<matplotlib.axes._subplots.AxesSubplot at 0x26023d28d30>"
          },
          "metadata": {}
        },
        {
          "output_type": "display_data",
          "data": {
            "text/plain": "<Figure size 432x288 with 1 Axes>",
            "image/png": "[encoded data removed]"
          },
          "metadata": {
            "needs_background": "light"
          }
        }
      ]
    },
    {
      "metadata": {
        "trusted": true
      },
      "cell_type": "code",
      "source": "plt.boxplot(data1['Delivery Time'])",
      "execution_count": 37,
      "outputs": [
        {
          "output_type": "execute_result",
          "execution_count": 37,
          "data": {
            "text/plain": "{'whiskers': [<matplotlib.lines.Line2D at 0x260244b2700>,\n  <matplotlib.lines.Line2D at 0x260244b2a90>],\n 'caps': [<matplotlib.lines.Line2D at 0x260244b2df0>,\n  <matplotlib.lines.Line2D at 0x260244c0190>],\n 'boxes': [<matplotlib.lines.Line2D at 0x260244b23a0>],\n 'medians': [<matplotlib.lines.Line2D at 0x260244c04f0>],\n 'fliers': [<matplotlib.lines.Line2D at 0x260244c07f0>],\n 'means': []}"
          },
          "metadata": {}
        },
        {
          "output_type": "display_data",
          "data": {
            "text/plain": "<Figure size 432x288 with 1 Axes>",
            "image/png": "[encoded data removed]"
          },
          "metadata": {
            "needs_background": "light"
          }
        }
      ]
    },
    {
      "metadata": {
        "trusted": true
      },
      "cell_type": "code",
      "source": "data1['ST'].hist()",
      "execution_count": 38,
      "outputs": [
        {
          "output_type": "execute_result",
          "execution_count": 38,
          "data": {
            "text/plain": "<matplotlib.axes._subplots.AxesSubplot at 0x260244db490>"
          },
          "metadata": {}
        },
        {
          "output_type": "display_data",
          "data": {
            "text/plain": "<Figure size 432x288 with 1 Axes>",
            "image/png": "[encoded data removed]"
          },
          "metadata": {
            "needs_background": "light"
          }
        }
      ]
    },
    {
      "metadata": {
        "trusted": true,
        "scrolled": false
      },
      "cell_type": "code",
      "source": "plt.boxplot(data1['ST'])",
      "execution_count": 39,
      "outputs": [
        {
          "output_type": "execute_result",
          "execution_count": 39,
          "data": {
            "text/plain": "{'whiskers': [<matplotlib.lines.Line2D at 0x2602459a190>,\n  <matplotlib.lines.Line2D at 0x2602459a4f0>],\n 'caps': [<matplotlib.lines.Line2D at 0x2602459a850>,\n  <matplotlib.lines.Line2D at 0x2602459abb0>],\n 'boxes': [<matplotlib.lines.Line2D at 0x2602458cdf0>],\n 'medians': [<matplotlib.lines.Line2D at 0x2602459af10>],\n 'fliers': [<matplotlib.lines.Line2D at 0x260245a3250>],\n 'means': []}"
          },
          "metadata": {}
        },
        {
          "output_type": "display_data",
          "data": {
            "text/plain": "<Figure size 432x288 with 1 Axes>",
            "image/png": "[encoded data removed]"
          },
          "metadata": {
            "needs_background": "light"
          }
        }
      ]
    },
    {
      "metadata": {
        "trusted": true
      },
      "cell_type": "code",
      "source": "import seaborn as sns",
      "execution_count": 41,
      "outputs": []
    },
    {
      "metadata": {
        "trusted": true,
        "scrolled": true
      },
      "cell_type": "code",
      "source": "sns.pairplot(data1)",
      "execution_count": 42,
      "outputs": [
        {
          "output_type": "execute_result",
          "execution_count": 42,
          "data": {
            "text/plain": "<seaborn.axisgrid.PairGrid at 0x260245c1d30>"
          },
          "metadata": {}
        },
        {
          "output_type": "display_data",
          "data": {
            "text/plain": "<Figure size 360x360 with 6 Axes>",
            "image/png": "[encoded data removed]"
          },
          "metadata": {
            "needs_background": "light"
          }
        }
      ]
    },
    {
      "metadata": {
        "trusted": true
      },
      "cell_type": "code",
      "source": "sns.distplot(data1['Delivery Time'])",
      "execution_count": 43,
      "outputs": [
        {
          "output_type": "execute_result",
          "execution_count": 43,
          "data": {
            "text/plain": "<matplotlib.axes._subplots.AxesSubplot at 0x260245ba400>"
          },
          "metadata": {}
        },
        {
          "output_type": "display_data",
          "data": {
            "text/plain": "<Figure size 432x288 with 1 Axes>",
            "image/png": "[encoded data removed]"
          },
          "metadata": {
            "needs_background": "light"
          }
        }
      ]
    },
    {
      "metadata": {
        "trusted": true
      },
      "cell_type": "code",
      "source": "sns.distplot(data1['ST'])",
      "execution_count": 45,
      "outputs": [
        {
          "output_type": "execute_result",
          "execution_count": 45,
          "data": {
            "text/plain": "<matplotlib.axes._subplots.AxesSubplot at 0x26024845fd0>"
          },
          "metadata": {}
        },
        {
          "output_type": "display_data",
          "data": {
            "text/plain": "<Figure size 432x288 with 1 Axes>",
            "image/png": "[encoded data removed]"
          },
          "metadata": {
            "needs_background": "light"
          }
        }
      ]
    },
    {
      "metadata": {},
      "cell_type": "markdown",
      "source": "From above analysis of given dataset we get hollowing things:\n    1) Two variables are linear.\n    2)Strongly correlated with each other.\n    3)Data varies in positive direction."
    }
  ],
  "metadata": {
    "kernelspec": {
      "name": "python3",
      "display_name": "Python 3",
      "language": "python"
    },
    "language_info": {
      "name": "python",
      "version": "3.8.3",
      "mimetype": "text/x-python",
      "codemirror_mode": {
        "name": "ipython",
        "version": 3
      },
      "pygments_lexer": "ipython3",
      "nbconvert_exporter": "python",
      "file_extension": ".py"
    },
    "gist": {
      "id": "",
      "data": {
        "description": "Assignment 4 Q-2 EDA.ipynb",
        "public": true
      }
    }
  },
  "nbformat": 4,
  "nbformat_minor": 4
}